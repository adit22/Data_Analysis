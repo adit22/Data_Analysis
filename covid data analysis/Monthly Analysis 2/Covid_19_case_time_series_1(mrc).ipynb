{
 "cells": [
  {
   "cell_type": "code",
   "execution_count": 1,
   "metadata": {},
   "outputs": [],
   "source": [
    "import pandas as pd\n",
    "import numpy as np \n",
    "import copy\n",
    "from matplotlib import pyplot as plt\n",
    "import seaborn as sns\n",
    "from collections import *\n",
    "from scipy.stats import pearsonr "
   ]
  },
  {
   "cell_type": "code",
   "execution_count": 2,
   "metadata": {},
   "outputs": [
    {
     "data": {
      "text/html": [
       "<div>\n",
       "<style scoped>\n",
       "    .dataframe tbody tr th:only-of-type {\n",
       "        vertical-align: middle;\n",
       "    }\n",
       "\n",
       "    .dataframe tbody tr th {\n",
       "        vertical-align: top;\n",
       "    }\n",
       "\n",
       "    .dataframe thead th {\n",
       "        text-align: right;\n",
       "    }\n",
       "</style>\n",
       "<table border=\"1\" class=\"dataframe\">\n",
       "  <thead>\n",
       "    <tr style=\"text-align: right;\">\n",
       "      <th></th>\n",
       "      <th>Date</th>\n",
       "      <th>Daily Confirmed</th>\n",
       "      <th>Total Confirmed</th>\n",
       "      <th>Daily Recovered</th>\n",
       "      <th>Total Recovered</th>\n",
       "      <th>Daily Deceased</th>\n",
       "      <th>Total Deceased</th>\n",
       "    </tr>\n",
       "  </thead>\n",
       "  <tbody>\n",
       "    <tr>\n",
       "      <th>0</th>\n",
       "      <td>2020-03-01</td>\n",
       "      <td>0</td>\n",
       "      <td>3</td>\n",
       "      <td>0</td>\n",
       "      <td>3</td>\n",
       "      <td>0</td>\n",
       "      <td>0</td>\n",
       "    </tr>\n",
       "    <tr>\n",
       "      <th>1</th>\n",
       "      <td>2020-03-02</td>\n",
       "      <td>2</td>\n",
       "      <td>5</td>\n",
       "      <td>0</td>\n",
       "      <td>3</td>\n",
       "      <td>0</td>\n",
       "      <td>0</td>\n",
       "    </tr>\n",
       "    <tr>\n",
       "      <th>2</th>\n",
       "      <td>2020-03-03</td>\n",
       "      <td>1</td>\n",
       "      <td>6</td>\n",
       "      <td>0</td>\n",
       "      <td>3</td>\n",
       "      <td>0</td>\n",
       "      <td>0</td>\n",
       "    </tr>\n",
       "    <tr>\n",
       "      <th>3</th>\n",
       "      <td>2020-03-04</td>\n",
       "      <td>22</td>\n",
       "      <td>28</td>\n",
       "      <td>0</td>\n",
       "      <td>3</td>\n",
       "      <td>0</td>\n",
       "      <td>0</td>\n",
       "    </tr>\n",
       "    <tr>\n",
       "      <th>4</th>\n",
       "      <td>2020-03-05</td>\n",
       "      <td>2</td>\n",
       "      <td>30</td>\n",
       "      <td>0</td>\n",
       "      <td>3</td>\n",
       "      <td>0</td>\n",
       "      <td>0</td>\n",
       "    </tr>\n",
       "  </tbody>\n",
       "</table>\n",
       "</div>"
      ],
      "text/plain": [
       "        Date  Daily Confirmed  Total Confirmed  Daily Recovered  \\\n",
       "0 2020-03-01                0                3                0   \n",
       "1 2020-03-02                2                5                0   \n",
       "2 2020-03-03                1                6                0   \n",
       "3 2020-03-04               22               28                0   \n",
       "4 2020-03-05                2               30                0   \n",
       "\n",
       "   Total Recovered  Daily Deceased  Total Deceased  \n",
       "0                3               0               0  \n",
       "1                3               0               0  \n",
       "2                3               0               0  \n",
       "3                3               0               0  \n",
       "4                3               0               0  "
      ]
     },
     "execution_count": 2,
     "metadata": {},
     "output_type": "execute_result"
    }
   ],
   "source": [
    "data=pd.read_excel(r\"C:\\Users\\Mark 1\\Desktop\\Lockdown\\data\\Covid-19\\monthly_case_series/coviddata_mar.xlsx\")\n",
    "data = data.loc[:, ~data.columns.str.contains('^Unnamed')]\n",
    "data.head()"
   ]
  },
  {
   "cell_type": "code",
   "execution_count": 3,
   "metadata": {},
   "outputs": [],
   "source": [
    "def chk_dirt(dt):\n",
    "    drt_cnt=0\n",
    "    if(len(dt.columns)):\n",
    "        for i in list(dt.columns):\n",
    "            if((True== \"NaN\" in dt[i])or (True == \"\" in dt[i]) or (True == \" \" in dt[i]) or (True == \"?\" in  dt[i])or (True == \"####\" in dt[i])):\n",
    "                drt_cnt+=1\n",
    "        if(drt_cnt):\n",
    "            print(\"Unwanted Data Value Found\")\n",
    "    else:\n",
    "        print(\"No Columns available to deal with or columns mixed with rows\")\n",
    "\n",
    "chk_dirt(data)"
   ]
  },
  {
   "cell_type": "code",
   "execution_count": 4,
   "metadata": {},
   "outputs": [
    {
     "data": {
      "text/html": [
       "<div>\n",
       "<style scoped>\n",
       "    .dataframe tbody tr th:only-of-type {\n",
       "        vertical-align: middle;\n",
       "    }\n",
       "\n",
       "    .dataframe tbody tr th {\n",
       "        vertical-align: top;\n",
       "    }\n",
       "\n",
       "    .dataframe thead th {\n",
       "        text-align: right;\n",
       "    }\n",
       "</style>\n",
       "<table border=\"1\" class=\"dataframe\">\n",
       "  <thead>\n",
       "    <tr style=\"text-align: right;\">\n",
       "      <th></th>\n",
       "      <th>Date</th>\n",
       "      <th>Daily Confirmed</th>\n",
       "      <th>Total Confirmed</th>\n",
       "      <th>Daily Recovered</th>\n",
       "      <th>Total Recovered</th>\n",
       "      <th>Daily Deceased</th>\n",
       "      <th>Total Deceased</th>\n",
       "    </tr>\n",
       "  </thead>\n",
       "  <tbody>\n",
       "  </tbody>\n",
       "</table>\n",
       "</div>"
      ],
      "text/plain": [
       "Empty DataFrame\n",
       "Columns: [Date, Daily Confirmed, Total Confirmed, Daily Recovered, Total Recovered, Daily Deceased, Total Deceased]\n",
       "Index: []"
      ]
     },
     "execution_count": 4,
     "metadata": {},
     "output_type": "execute_result"
    }
   ],
   "source": [
    "data[data.duplicated()]"
   ]
  },
  {
   "cell_type": "code",
   "execution_count": 5,
   "metadata": {},
   "outputs": [
    {
     "data": {
      "text/plain": [
       "Date               datetime64[ns]\n",
       "Daily Confirmed             int64\n",
       "Total Confirmed             int64\n",
       "Daily Recovered             int64\n",
       "Total Recovered             int64\n",
       "Daily Deceased              int64\n",
       "Total Deceased              int64\n",
       "dtype: object"
      ]
     },
     "execution_count": 5,
     "metadata": {},
     "output_type": "execute_result"
    }
   ],
   "source": [
    "data.dtypes"
   ]
  },
  {
   "cell_type": "code",
   "execution_count": 6,
   "metadata": {},
   "outputs": [
    {
     "data": {
      "text/plain": [
       "2"
      ]
     },
     "execution_count": 6,
     "metadata": {},
     "output_type": "execute_result"
    }
   ],
   "source": [
    "data.ndim"
   ]
  },
  {
   "cell_type": "code",
   "execution_count": 7,
   "metadata": {},
   "outputs": [
    {
     "data": {
      "text/html": [
       "<div>\n",
       "<style scoped>\n",
       "    .dataframe tbody tr th:only-of-type {\n",
       "        vertical-align: middle;\n",
       "    }\n",
       "\n",
       "    .dataframe tbody tr th {\n",
       "        vertical-align: top;\n",
       "    }\n",
       "\n",
       "    .dataframe thead th {\n",
       "        text-align: right;\n",
       "    }\n",
       "</style>\n",
       "<table border=\"1\" class=\"dataframe\">\n",
       "  <thead>\n",
       "    <tr style=\"text-align: right;\">\n",
       "      <th></th>\n",
       "      <th>Daily Confirmed</th>\n",
       "      <th>Total Confirmed</th>\n",
       "      <th>Daily Recovered</th>\n",
       "      <th>Total Recovered</th>\n",
       "      <th>Daily Deceased</th>\n",
       "      <th>Total Deceased</th>\n",
       "    </tr>\n",
       "  </thead>\n",
       "  <tbody>\n",
       "    <tr>\n",
       "      <th>count</th>\n",
       "      <td>31.000000</td>\n",
       "      <td>31.000000</td>\n",
       "      <td>31.000000</td>\n",
       "      <td>31.000000</td>\n",
       "      <td>31.000000</td>\n",
       "      <td>31.000000</td>\n",
       "    </tr>\n",
       "    <tr>\n",
       "      <th>mean</th>\n",
       "      <td>52.645161</td>\n",
       "      <td>349.516129</td>\n",
       "      <td>4.741935</td>\n",
       "      <td>29.419355</td>\n",
       "      <td>1.516129</td>\n",
       "      <td>7.645161</td>\n",
       "    </tr>\n",
       "    <tr>\n",
       "      <th>std</th>\n",
       "      <td>69.606776</td>\n",
       "      <td>439.586842</td>\n",
       "      <td>8.326535</td>\n",
       "      <td>39.748186</td>\n",
       "      <td>2.873685</td>\n",
       "      <td>12.153322</td>\n",
       "    </tr>\n",
       "    <tr>\n",
       "      <th>min</th>\n",
       "      <td>0.000000</td>\n",
       "      <td>3.000000</td>\n",
       "      <td>0.000000</td>\n",
       "      <td>3.000000</td>\n",
       "      <td>0.000000</td>\n",
       "      <td>0.000000</td>\n",
       "    </tr>\n",
       "    <tr>\n",
       "      <th>25%</th>\n",
       "      <td>8.500000</td>\n",
       "      <td>43.500000</td>\n",
       "      <td>0.000000</td>\n",
       "      <td>3.000000</td>\n",
       "      <td>0.000000</td>\n",
       "      <td>0.000000</td>\n",
       "    </tr>\n",
       "    <tr>\n",
       "      <th>50%</th>\n",
       "      <td>20.000000</td>\n",
       "      <td>126.000000</td>\n",
       "      <td>1.000000</td>\n",
       "      <td>14.000000</td>\n",
       "      <td>0.000000</td>\n",
       "      <td>2.000000</td>\n",
       "    </tr>\n",
       "    <tr>\n",
       "      <th>75%</th>\n",
       "      <td>76.000000</td>\n",
       "      <td>534.000000</td>\n",
       "      <td>5.500000</td>\n",
       "      <td>32.500000</td>\n",
       "      <td>1.500000</td>\n",
       "      <td>9.500000</td>\n",
       "    </tr>\n",
       "    <tr>\n",
       "      <th>max</th>\n",
       "      <td>309.000000</td>\n",
       "      <td>1635.000000</td>\n",
       "      <td>35.000000</td>\n",
       "      <td>150.000000</td>\n",
       "      <td>14.000000</td>\n",
       "      <td>47.000000</td>\n",
       "    </tr>\n",
       "  </tbody>\n",
       "</table>\n",
       "</div>"
      ],
      "text/plain": [
       "       Daily Confirmed  Total Confirmed  Daily Recovered  Total Recovered  \\\n",
       "count        31.000000        31.000000        31.000000        31.000000   \n",
       "mean         52.645161       349.516129         4.741935        29.419355   \n",
       "std          69.606776       439.586842         8.326535        39.748186   \n",
       "min           0.000000         3.000000         0.000000         3.000000   \n",
       "25%           8.500000        43.500000         0.000000         3.000000   \n",
       "50%          20.000000       126.000000         1.000000        14.000000   \n",
       "75%          76.000000       534.000000         5.500000        32.500000   \n",
       "max         309.000000      1635.000000        35.000000       150.000000   \n",
       "\n",
       "       Daily Deceased  Total Deceased  \n",
       "count       31.000000       31.000000  \n",
       "mean         1.516129        7.645161  \n",
       "std          2.873685       12.153322  \n",
       "min          0.000000        0.000000  \n",
       "25%          0.000000        0.000000  \n",
       "50%          0.000000        2.000000  \n",
       "75%          1.500000        9.500000  \n",
       "max         14.000000       47.000000  "
      ]
     },
     "execution_count": 7,
     "metadata": {},
     "output_type": "execute_result"
    }
   ],
   "source": [
    "data.describe()"
   ]
  },
  {
   "cell_type": "code",
   "execution_count": 8,
   "metadata": {},
   "outputs": [],
   "source": [
    "###beginning the task of analysis(visually and quantitatively )"
   ]
  },
  {
   "cell_type": "code",
   "execution_count": 9,
   "metadata": {},
   "outputs": [],
   "source": [
    "pcol=['Daily Confirmed','Daily Recovered','Daily Deceased']\n",
    "tcol=['Total Confirmed','Total Recovered','Total Deceased']"
   ]
  },
  {
   "cell_type": "code",
   "execution_count": 10,
   "metadata": {},
   "outputs": [
    {
     "name": "stdout",
     "output_type": "stream",
     "text": [
      "Daily Confirmed\n",
      "Daily Recovered\n",
      "1.3404884878170261e-06\n",
      "Daily Confirmed\n",
      "Daily Deceased\n",
      "4.0174057881889105e-06\n",
      "Daily Recovered\n",
      "Daily Deceased\n",
      "3.656770526381091e-05\n"
     ]
    }
   ],
   "source": [
    "for i in range(len(pcol)-1):\n",
    "    if(i==0):\n",
    "        j=i\n",
    "        k=1\n",
    "        while(k<len(pcol)):\n",
    "            a=len(data)*(np.sum(data[pcol[j]]*data[pcol[k]]))\n",
    "            b=np.sum(data[pcol[j]])\n",
    "            c=np.sum(data[pcol[k]])\n",
    "            d=len(data)*np.sum(data[pcol[j]]**2)\n",
    "            e=b**2\n",
    "            f=len(data)*np.sum(data[pcol[k]]**2)\n",
    "            g=c**2\n",
    "            r=((a)-(b*c))/(((d)-(e))*((f)-(g)))\n",
    "            \n",
    "            print(pcol[j])\n",
    "            if(k!=3):\n",
    "                print(pcol[k])\n",
    "            else:\n",
    "                print(pcol[k-2])\n",
    "                \n",
    "            print(r)\n",
    "            k=k+1\n",
    "    else:\n",
    "        a=len(data)*(np.sum(data[pcol[i]]*data[pcol[i+1]]))\n",
    "        b=np.sum(data[pcol[i]])\n",
    "        c=np.sum(data[pcol[i+1]])\n",
    "        d=len(data)*np.sum(data[pcol[i]]**2)\n",
    "        e=b**2\n",
    "        f=len(data)*np.sum(data[pcol[i+1]]**2)\n",
    "        g=c**2\n",
    "        k=j+2\n",
    "        r=((a)-(b*c))/(((d)-(e))*((f)-(g)))\n",
    "        print(pcol[i])\n",
    "        print(pcol[i+1])\n",
    "        print(r)\n",
    "        \n",
    "            "
   ]
  },
  {
   "cell_type": "code",
   "execution_count": 11,
   "metadata": {},
   "outputs": [
    {
     "name": "stdout",
     "output_type": "stream",
     "text": [
      "Daily Confirmed Vs.Daily Recovered\n",
      "0.7225399404103854\n",
      "4.435625285715732e-06\n",
      "Daily Confirmed Vs.Daily Deceased\n",
      "0.7473418492918507\n",
      "1.36209975296612e-06\n",
      "Daily Recovered Vs.Daily Deceased\n",
      "0.8137370625190228\n",
      "2.604848960480065e-08\n"
     ]
    }
   ],
   "source": [
    "for i in range(len(pcol)-1):\n",
    "    if(i==0):\n",
    "        j=i\n",
    "        k=1\n",
    "        while(k<len(pcol)):\n",
    "            coef,pval=pearsonr(data[pcol[j]],data[pcol[k]])\n",
    "            print(pcol[j]+\" Vs.\"+pcol[k])\n",
    "            print(coef)\n",
    "            print(pval)\n",
    "            k=k+1\n",
    "    else:\n",
    "        coef,pval=pearsonr(data[pcol[i]],data[pcol[i+1]])\n",
    "        print(pcol[i]+\" Vs.\"+pcol[i+1])\n",
    "        print(coef)\n",
    "        print(pval)"
   ]
  },
  {
   "cell_type": "code",
   "execution_count": 12,
   "metadata": {},
   "outputs": [
    {
     "data": {
      "image/png": "[encoded data removed]",
      "text/plain": [
       "<Figure size 432x288 with 1 Axes>"
      ]
     },
     "metadata": {
      "needs_background": "light"
     },
     "output_type": "display_data"
    },
    {
     "data": {
      "image/png": "[encoded data removed]",
      "text/plain": [
       "<Figure size 432x288 with 1 Axes>"
      ]
     },
     "metadata": {
      "needs_background": "light"
     },
     "output_type": "display_data"
    },
    {
     "data": {
      "image/png": "[encoded data removed]",
      "text/plain": [
       "<Figure size 432x288 with 1 Axes>"
      ]
     },
     "metadata": {
      "needs_background": "light"
     },
     "output_type": "display_data"
    }
   ],
   "source": [
    "for i in range(len(pcol)-1):\n",
    "    if(i==0):\n",
    "        j=i\n",
    "        k=1\n",
    "        while(k<len(pcol)):\n",
    "            data.plot(x=pcol[j],y=pcol[k])\n",
    "            k=k+1\n",
    "    else:\n",
    "        data.plot(x=pcol[i],y=pcol[i+1])"
   ]
  },
  {
   "cell_type": "code",
   "execution_count": 13,
   "metadata": {},
   "outputs": [
    {
     "data": {
      "image/png": "[encoded data removed]",
      "text/plain": [
       "<Figure size 432x288 with 1 Axes>"
      ]
     },
     "metadata": {
      "needs_background": "light"
     },
     "output_type": "display_data"
    },
    {
     "data": {
      "image/png": "[encoded data removed]",
      "text/plain": [
       "<Figure size 432x288 with 1 Axes>"
      ]
     },
     "metadata": {
      "needs_background": "light"
     },
     "output_type": "display_data"
    },
    {
     "data": {
      "image/png": "[encoded data removed]",
      "text/plain": [
       "<Figure size 432x288 with 1 Axes>"
      ]
     },
     "metadata": {
      "needs_background": "light"
     },
     "output_type": "display_data"
    }
   ],
   "source": [
    "for i in range(len(pcol)-1):\n",
    "    if(i==0):\n",
    "        j=i\n",
    "        k=1\n",
    "        while(k<len(pcol)):\n",
    "            data.plot(x=pcol[j],y=pcol[k],kind=\"scatter\")\n",
    "            k=k+1\n",
    "    else:\n",
    "        data.plot(x=pcol[i],y=pcol[i+1],kind=\"scatter\")"
   ]
  },
  {
   "cell_type": "code",
   "execution_count": 14,
   "metadata": {},
   "outputs": [
    {
     "name": "stdout",
     "output_type": "stream",
     "text": [
      "Total Confirmed\n",
      "Total Recovered\n",
      "6.05112108972504e-08\n",
      "Total Confirmed\n",
      "Total Deceased\n",
      "1.9744468492226456e-07\n",
      "Total Recovered\n",
      "Total Deceased\n",
      "2.2139824638193544e-06\n"
     ]
    }
   ],
   "source": [
    "for i in range(len(tcol)-1):\n",
    "    if(i==0):\n",
    "        j=i\n",
    "        k=1\n",
    "        while(k<len(tcol)):\n",
    "            a=len(data)*(np.sum(data[tcol[j]]*data[tcol[k]]))\n",
    "            b=np.sum(data[tcol[j]])\n",
    "            c=np.sum(data[tcol[k]])\n",
    "            d=len(data)*np.sum(data[tcol[j]]**2)\n",
    "            e=b**2\n",
    "            f=len(data)*np.sum(data[tcol[k]]**2)\n",
    "            g=c**2\n",
    "            r=((a)-(b*c))/(((d)-(e))*((f)-(g)))\n",
    "            \n",
    "            print(tcol[j])\n",
    "            if(k!=3):\n",
    "                print(tcol[k])\n",
    "            else:\n",
    "                print(tcol[k-2])\n",
    "                \n",
    "            print(r)\n",
    "            k=k+1\n",
    "    else:\n",
    "        a=len(data)*(np.sum(data[tcol[i]]*data[tcol[i+1]]))\n",
    "        b=np.sum(data[tcol[i]])\n",
    "        c=np.sum(data[tcol[i+1]])\n",
    "        d=len(data)*np.sum(data[tcol[i]]**2)\n",
    "        e=b**2\n",
    "        f=len(data)*np.sum(data[tcol[i+1]]**2)\n",
    "        g=c**2\n",
    "        k=j+2\n",
    "        r=((a)-(b*c))/(((d)-(e))*((f)-(g)))\n",
    "        print(tcol[i])\n",
    "        print(tcol[i+1])\n",
    "        print(r)\n",
    "        \n",
    "            "
   ]
  },
  {
   "cell_type": "code",
   "execution_count": 15,
   "metadata": {},
   "outputs": [
    {
     "name": "stdout",
     "output_type": "stream",
     "text": [
      "Total Confirmed Vs.Total Recovered\n",
      "0.9832881114322476\n",
      "5.245688445525988e-23\n",
      "Total Confirmed Vs.Total Deceased\n",
      "0.9809978828228139\n",
      "3.328361324643989e-22\n",
      "Total Recovered Vs.Total Deceased\n",
      "0.9946480311673422\n",
      "3.807897160279577e-30\n"
     ]
    }
   ],
   "source": [
    "for i in range(len(tcol)-1):\n",
    "    if(i==0):\n",
    "        j=i\n",
    "        k=1\n",
    "        while(k<len(tcol)):\n",
    "            coef,pval=pearsonr(data[tcol[j]],data[tcol[k]])\n",
    "            print(tcol[j]+\" Vs.\"+tcol[k])\n",
    "            print(coef)\n",
    "            print(pval)\n",
    "            k=k+1\n",
    "    else:\n",
    "        coef,pval=pearsonr(data[tcol[i]],data[tcol[i+1]])\n",
    "        print(tcol[i]+\" Vs.\"+tcol[i+1])\n",
    "        print(coef)\n",
    "        print(pval)"
   ]
  },
  {
   "cell_type": "code",
   "execution_count": 16,
   "metadata": {},
   "outputs": [
    {
     "data": {
      "image/png": "[encoded data removed]",
      "text/plain": [
       "<Figure size 432x288 with 1 Axes>"
      ]
     },
     "metadata": {
      "needs_background": "light"
     },
     "output_type": "display_data"
    },
    {
     "data": {
      "image/png": "[encoded data removed]",
      "text/plain": [
       "<Figure size 432x288 with 1 Axes>"
      ]
     },
     "metadata": {
      "needs_background": "light"
     },
     "output_type": "display_data"
    },
    {
     "data": {
      "image/png": "[encoded data removed]",
      "text/plain": [
       "<Figure size 432x288 with 1 Axes>"
      ]
     },
     "metadata": {
      "needs_background": "light"
     },
     "output_type": "display_data"
    }
   ],
   "source": [
    "for i in range(len(tcol)-1):\n",
    "    if(i==0):\n",
    "        j=i\n",
    "        k=1\n",
    "        while(k<len(tcol)):\n",
    "            data.plot(x=tcol[j],y=tcol[k])\n",
    "            k=k+1\n",
    "    else:\n",
    "        data.plot(x=tcol[i],y=tcol[i+1])"
   ]
  },
  {
   "cell_type": "code",
   "execution_count": 17,
   "metadata": {},
   "outputs": [
    {
     "data": {
      "image/png": "[encoded data removed]",
      "text/plain": [
       "<Figure size 432x288 with 1 Axes>"
      ]
     },
     "metadata": {
      "needs_background": "light"
     },
     "output_type": "display_data"
    },
    {
     "data": {
      "image/png": "[encoded data removed]",
      "text/plain": [
       "<Figure size 432x288 with 1 Axes>"
      ]
     },
     "metadata": {
      "needs_background": "light"
     },
     "output_type": "display_data"
    },
    {
     "data": {
      "image/png": "[encoded data removed]",
      "text/plain": [
       "<Figure size 432x288 with 1 Axes>"
      ]
     },
     "metadata": {
      "needs_background": "light"
     },
     "output_type": "display_data"
    }
   ],
   "source": [
    "for i in range(len(tcol)-1):\n",
    "    if(i==0):\n",
    "        j=i\n",
    "        k=1\n",
    "        while(k<len(tcol)):\n",
    "            data.plot(x=tcol[j],y=tcol[k],kind=\"scatter\")\n",
    "            k=k+1\n",
    "    else:\n",
    "        data.plot(x=tcol[i],y=tcol[i+1],kind=\"scatter\")"
   ]
  },
  {
   "cell_type": "code",
   "execution_count": 18,
   "metadata": {},
   "outputs": [
    {
     "name": "stdout",
     "output_type": "stream",
     "text": [
      "For: Daily Confirmed\n",
      "   10  100\n",
      "0  26    5\n",
      "\n",
      "\n",
      "For: Total Confirmed\n",
      "   10  100  1000\n",
      "0  13   14     4\n",
      "\n",
      "\n",
      "For: Daily Recovered\n",
      "   10\n",
      "0  31\n",
      "\n",
      "\n",
      "For: Total Recovered\n",
      "   10  100\n",
      "0  28    3\n",
      "\n",
      "\n",
      "For: Daily Deceased\n",
      "   10\n",
      "0  31\n",
      "\n",
      "\n",
      "For: Total Deceased\n",
      "   10\n",
      "0  31\n",
      "\n",
      "\n"
     ]
    }
   ],
   "source": [
    "colls=list(data.columns)\n",
    "colls.pop(0)\n",
    "for c in colls:\n",
    "    min(data[c])\n",
    "    max(data[c])\n",
    "    rnge_list=[]\n",
    "    dys_cnt={}\n",
    "    \n",
    "    for i in range(1,len(str(max(data[c])))):\n",
    "        rnge_list.append(10**i)\n",
    "    cnt1=0\n",
    "\n",
    "    for i in list(data[c]):\n",
    "\n",
    "        if(len(str(i))<2 or len(str(i))==2):\n",
    "            cnt1=cnt1+1\n",
    "            dys_cnt.update({str(rnge_list[0]):cnt1})\n",
    "        else:\n",
    "            cnt1=cnt1+1\n",
    "            dys_cnt.update({str(rnge_list[len(str(i))-2]):cnt1})\n",
    "\n",
    "    if(len(list(dys_cnt.keys()))>1):\n",
    "        itr_lst=list(range(1,len(list(dys_cnt.keys()))))\n",
    "        itr_lst.sort(reverse=True)\n",
    "        for i in itr_lst:\n",
    "            dys_cnt[list(dys_cnt.keys())[i]]=dys_cnt[list(dys_cnt.keys())[i]]-dys_cnt[list(dys_cnt.keys())[i-1]]        \n",
    "\n",
    "    print(\"For: \"+c)\n",
    "    print(pd.DataFrame(dys_cnt,index=[0]))\n",
    "    print(\"\\n\")\n",
    "    "
   ]
  },
  {
   "cell_type": "code",
   "execution_count": 19,
   "metadata": {},
   "outputs": [
    {
     "name": "stdout",
     "output_type": "stream",
     "text": [
      "For: Daily Confirmed\n",
      "   10  100\n",
      "0  26   31\n",
      "\n",
      "\n",
      "For: Total Confirmed\n",
      "   10  100  1000\n",
      "0  13   27    31\n",
      "\n",
      "\n",
      "For: Daily Recovered\n",
      "   10\n",
      "0  31\n",
      "\n",
      "\n",
      "For: Total Recovered\n",
      "   10  100\n",
      "0  28   31\n",
      "\n",
      "\n",
      "For: Daily Deceased\n",
      "   10\n",
      "0  31\n",
      "\n",
      "\n",
      "For: Total Deceased\n",
      "   10\n",
      "0  31\n",
      "\n",
      "\n"
     ]
    }
   ],
   "source": [
    "colls=list(data.columns)\n",
    "colls.pop(0)\n",
    "for c in colls:\n",
    "    min(data[c])\n",
    "    max(data[c])\n",
    "    rnge_list=[]\n",
    "    dys_cnt={}\n",
    "\n",
    "    for i in range(1,len(str(max(data[c])))):\n",
    "        rnge_list.append(10**i)\n",
    "    cnt1=0\n",
    "\n",
    "\n",
    "    for i in list(data[c]):\n",
    "\n",
    "        if(len(str(i))<2 or len(str(i))==2):\n",
    "            cnt1=cnt1+1\n",
    "            dys_cnt.update({str(rnge_list[0]):cnt1})\n",
    "        else:\n",
    "            cnt1=cnt1+1\n",
    "            dys_cnt.update({str(rnge_list[len(str(i))-2]):cnt1})\n",
    "\n",
    "            \n",
    "\n",
    "    print(\"For: \"+c)\n",
    "    print(pd.DataFrame(dys_cnt,index=[0]))\n",
    "    print(\"\\n\")\n",
    "    "
   ]
  },
  {
   "cell_type": "code",
   "execution_count": null,
   "metadata": {},
   "outputs": [],
   "source": []
  }
 ],
 "metadata": {
  "kernelspec": {
   "display_name": "Python 3",
   "language": "python",
   "name": "python3"
  },
  "language_info": {
   "codemirror_mode": {
    "name": "ipython",
    "version": 3
   },
   "file_extension": ".py",
   "mimetype": "text/x-python",
   "name": "python",
   "nbconvert_exporter": "python",
   "pygments_lexer": "ipython3",
   "version": "3.8.3"
  }
 },
 "nbformat": 4,
 "nbformat_minor": 4
}
