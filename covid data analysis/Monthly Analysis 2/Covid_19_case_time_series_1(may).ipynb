{
 "cells": [
  {
   "cell_type": "code",
   "execution_count": 1,
   "metadata": {},
   "outputs": [],
   "source": [
    "import pandas as pd\n",
    "import numpy as np \n",
    "import copy\n",
    "from matplotlib import pyplot as plt\n",
    "import seaborn as sns\n",
    "from collections import *\n",
    "from scipy.stats import pearsonr "
   ]
  },
  {
   "cell_type": "code",
   "execution_count": 2,
   "metadata": {},
   "outputs": [
    {
     "data": {
      "text/html": [
       "<div>\n",
       "<style scoped>\n",
       "    .dataframe tbody tr th:only-of-type {\n",
       "        vertical-align: middle;\n",
       "    }\n",
       "\n",
       "    .dataframe tbody tr th {\n",
       "        vertical-align: top;\n",
       "    }\n",
       "\n",
       "    .dataframe thead th {\n",
       "        text-align: right;\n",
       "    }\n",
       "</style>\n",
       "<table border=\"1\" class=\"dataframe\">\n",
       "  <thead>\n",
       "    <tr style=\"text-align: right;\">\n",
       "      <th></th>\n",
       "      <th>Date</th>\n",
       "      <th>Daily Confirmed</th>\n",
       "      <th>Total Confirmed</th>\n",
       "      <th>Daily Recovered</th>\n",
       "      <th>Total Recovered</th>\n",
       "      <th>Daily Deceased</th>\n",
       "      <th>Total Deceased</th>\n",
       "    </tr>\n",
       "  </thead>\n",
       "  <tbody>\n",
       "    <tr>\n",
       "      <th>0</th>\n",
       "      <td>01-May</td>\n",
       "      <td>2396</td>\n",
       "      <td>37262</td>\n",
       "      <td>962</td>\n",
       "      <td>10021</td>\n",
       "      <td>77</td>\n",
       "      <td>1231</td>\n",
       "    </tr>\n",
       "    <tr>\n",
       "      <th>1</th>\n",
       "      <td>02-May</td>\n",
       "      <td>2564</td>\n",
       "      <td>39826</td>\n",
       "      <td>831</td>\n",
       "      <td>10852</td>\n",
       "      <td>92</td>\n",
       "      <td>1323</td>\n",
       "    </tr>\n",
       "    <tr>\n",
       "      <th>2</th>\n",
       "      <td>03-May</td>\n",
       "      <td>2952</td>\n",
       "      <td>42778</td>\n",
       "      <td>911</td>\n",
       "      <td>11763</td>\n",
       "      <td>140</td>\n",
       "      <td>1463</td>\n",
       "    </tr>\n",
       "    <tr>\n",
       "      <th>3</th>\n",
       "      <td>04-May</td>\n",
       "      <td>3656</td>\n",
       "      <td>46434</td>\n",
       "      <td>1082</td>\n",
       "      <td>12845</td>\n",
       "      <td>103</td>\n",
       "      <td>1566</td>\n",
       "    </tr>\n",
       "    <tr>\n",
       "      <th>4</th>\n",
       "      <td>05-May</td>\n",
       "      <td>2971</td>\n",
       "      <td>49405</td>\n",
       "      <td>1295</td>\n",
       "      <td>14140</td>\n",
       "      <td>128</td>\n",
       "      <td>1694</td>\n",
       "    </tr>\n",
       "  </tbody>\n",
       "</table>\n",
       "</div>"
      ],
      "text/plain": [
       "     Date  Daily Confirmed  Total Confirmed  Daily Recovered  Total Recovered  \\\n",
       "0  01-May             2396            37262              962            10021   \n",
       "1  02-May             2564            39826              831            10852   \n",
       "2  03-May             2952            42778              911            11763   \n",
       "3  04-May             3656            46434             1082            12845   \n",
       "4  05-May             2971            49405             1295            14140   \n",
       "\n",
       "   Daily Deceased  Total Deceased  \n",
       "0              77            1231  \n",
       "1              92            1323  \n",
       "2             140            1463  \n",
       "3             103            1566  \n",
       "4             128            1694  "
      ]
     },
     "execution_count": 2,
     "metadata": {},
     "output_type": "execute_result"
    }
   ],
   "source": [
    "data=pd.read_csv(r\"C:\\Users\\Mark 1\\Desktop\\Lockdown\\data\\Covid-19\\monthly_case_series\\coviddata_may.csv\")\n",
    "data = data.loc[:, ~data.columns.str.contains('^Unnamed')]\n",
    "data.head()"
   ]
  },
  {
   "cell_type": "code",
   "execution_count": 3,
   "metadata": {},
   "outputs": [],
   "source": [
    "def chk_dirt(dt):\n",
    "    drt_cnt=0\n",
    "    if(len(dt.columns)):\n",
    "        for i in list(dt.columns):\n",
    "            if((True== \"NaN\" in dt[i])or (True == \"\" in dt[i]) or (True == \" \" in dt[i]) or (True == \"?\" in  dt[i])or (True == \"####\" in dt[i])):\n",
    "                drt_cnt+=1\n",
    "        if(drt_cnt):\n",
    "            print(\"Unwanted Data Value Found\")\n",
    "    else:\n",
    "        print(\"No Columns available to deal with or columns mixed with rows\")\n",
    "\n",
    "chk_dirt(data)"
   ]
  },
  {
   "cell_type": "code",
   "execution_count": 4,
   "metadata": {},
   "outputs": [
    {
     "data": {
      "text/html": [
       "<div>\n",
       "<style scoped>\n",
       "    .dataframe tbody tr th:only-of-type {\n",
       "        vertical-align: middle;\n",
       "    }\n",
       "\n",
       "    .dataframe tbody tr th {\n",
       "        vertical-align: top;\n",
       "    }\n",
       "\n",
       "    .dataframe thead th {\n",
       "        text-align: right;\n",
       "    }\n",
       "</style>\n",
       "<table border=\"1\" class=\"dataframe\">\n",
       "  <thead>\n",
       "    <tr style=\"text-align: right;\">\n",
       "      <th></th>\n",
       "      <th>Date</th>\n",
       "      <th>Daily Confirmed</th>\n",
       "      <th>Total Confirmed</th>\n",
       "      <th>Daily Recovered</th>\n",
       "      <th>Total Recovered</th>\n",
       "      <th>Daily Deceased</th>\n",
       "      <th>Total Deceased</th>\n",
       "    </tr>\n",
       "  </thead>\n",
       "  <tbody>\n",
       "  </tbody>\n",
       "</table>\n",
       "</div>"
      ],
      "text/plain": [
       "Empty DataFrame\n",
       "Columns: [Date, Daily Confirmed, Total Confirmed, Daily Recovered, Total Recovered, Daily Deceased, Total Deceased]\n",
       "Index: []"
      ]
     },
     "execution_count": 4,
     "metadata": {},
     "output_type": "execute_result"
    }
   ],
   "source": [
    "data[data.duplicated()]"
   ]
  },
  {
   "cell_type": "code",
   "execution_count": 5,
   "metadata": {},
   "outputs": [
    {
     "data": {
      "text/plain": [
       "Date               object\n",
       "Daily Confirmed     int64\n",
       "Total Confirmed     int64\n",
       "Daily Recovered     int64\n",
       "Total Recovered     int64\n",
       "Daily Deceased      int64\n",
       "Total Deceased      int64\n",
       "dtype: object"
      ]
     },
     "execution_count": 5,
     "metadata": {},
     "output_type": "execute_result"
    }
   ],
   "source": [
    "data.dtypes"
   ]
  },
  {
   "cell_type": "code",
   "execution_count": 6,
   "metadata": {},
   "outputs": [
    {
     "data": {
      "text/plain": [
       "2"
      ]
     },
     "execution_count": 6,
     "metadata": {},
     "output_type": "execute_result"
    }
   ],
   "source": [
    "data.ndim"
   ]
  },
  {
   "cell_type": "code",
   "execution_count": 7,
   "metadata": {},
   "outputs": [
    {
     "data": {
      "text/html": [
       "<div>\n",
       "<style scoped>\n",
       "    .dataframe tbody tr th:only-of-type {\n",
       "        vertical-align: middle;\n",
       "    }\n",
       "\n",
       "    .dataframe tbody tr th {\n",
       "        vertical-align: top;\n",
       "    }\n",
       "\n",
       "    .dataframe thead th {\n",
       "        text-align: right;\n",
       "    }\n",
       "</style>\n",
       "<table border=\"1\" class=\"dataframe\">\n",
       "  <thead>\n",
       "    <tr style=\"text-align: right;\">\n",
       "      <th></th>\n",
       "      <th>Daily Confirmed</th>\n",
       "      <th>Total Confirmed</th>\n",
       "      <th>Daily Recovered</th>\n",
       "      <th>Total Recovered</th>\n",
       "      <th>Daily Deceased</th>\n",
       "      <th>Total Deceased</th>\n",
       "    </tr>\n",
       "  </thead>\n",
       "  <tbody>\n",
       "    <tr>\n",
       "      <th>count</th>\n",
       "      <td>31.000000</td>\n",
       "      <td>31.000000</td>\n",
       "      <td>31.000000</td>\n",
       "      <td>31.000000</td>\n",
       "      <td>31.000000</td>\n",
       "      <td>31.000000</td>\n",
       "    </tr>\n",
       "    <tr>\n",
       "      <th>mean</th>\n",
       "      <td>5025.258065</td>\n",
       "      <td>99658.774194</td>\n",
       "      <td>2671.064516</td>\n",
       "      <td>39262.129032</td>\n",
       "      <td>137.161290</td>\n",
       "      <td>3039.580645</td>\n",
       "    </tr>\n",
       "    <tr>\n",
       "      <th>std</th>\n",
       "      <td>1855.868727</td>\n",
       "      <td>45919.692269</td>\n",
       "      <td>2008.523686</td>\n",
       "      <td>24219.678486</td>\n",
       "      <td>42.790261</td>\n",
       "      <td>1215.692060</td>\n",
       "    </tr>\n",
       "    <tr>\n",
       "      <th>min</th>\n",
       "      <td>2396.000000</td>\n",
       "      <td>37262.000000</td>\n",
       "      <td>831.000000</td>\n",
       "      <td>10021.000000</td>\n",
       "      <td>77.000000</td>\n",
       "      <td>1231.000000</td>\n",
       "    </tr>\n",
       "    <tr>\n",
       "      <th>25%</th>\n",
       "      <td>3577.000000</td>\n",
       "      <td>61277.500000</td>\n",
       "      <td>1444.500000</td>\n",
       "      <td>18594.000000</td>\n",
       "      <td>104.000000</td>\n",
       "      <td>2043.500000</td>\n",
       "    </tr>\n",
       "    <tr>\n",
       "      <th>50%</th>\n",
       "      <td>4628.000000</td>\n",
       "      <td>90649.000000</td>\n",
       "      <td>2482.000000</td>\n",
       "      <td>34257.000000</td>\n",
       "      <td>134.000000</td>\n",
       "      <td>2872.000000</td>\n",
       "    </tr>\n",
       "    <tr>\n",
       "      <th>75%</th>\n",
       "      <td>6475.000000</td>\n",
       "      <td>134980.500000</td>\n",
       "      <td>3225.500000</td>\n",
       "      <td>56051.500000</td>\n",
       "      <td>151.000000</td>\n",
       "      <td>3945.000000</td>\n",
       "    </tr>\n",
       "    <tr>\n",
       "      <th>max</th>\n",
       "      <td>8789.000000</td>\n",
       "      <td>190649.000000</td>\n",
       "      <td>11735.000000</td>\n",
       "      <td>91862.000000</td>\n",
       "      <td>269.000000</td>\n",
       "      <td>5406.000000</td>\n",
       "    </tr>\n",
       "  </tbody>\n",
       "</table>\n",
       "</div>"
      ],
      "text/plain": [
       "       Daily Confirmed  Total Confirmed  Daily Recovered  Total Recovered  \\\n",
       "count        31.000000        31.000000        31.000000        31.000000   \n",
       "mean       5025.258065     99658.774194      2671.064516     39262.129032   \n",
       "std        1855.868727     45919.692269      2008.523686     24219.678486   \n",
       "min        2396.000000     37262.000000       831.000000     10021.000000   \n",
       "25%        3577.000000     61277.500000      1444.500000     18594.000000   \n",
       "50%        4628.000000     90649.000000      2482.000000     34257.000000   \n",
       "75%        6475.000000    134980.500000      3225.500000     56051.500000   \n",
       "max        8789.000000    190649.000000     11735.000000     91862.000000   \n",
       "\n",
       "       Daily Deceased  Total Deceased  \n",
       "count       31.000000       31.000000  \n",
       "mean       137.161290     3039.580645  \n",
       "std         42.790261     1215.692060  \n",
       "min         77.000000     1231.000000  \n",
       "25%        104.000000     2043.500000  \n",
       "50%        134.000000     2872.000000  \n",
       "75%        151.000000     3945.000000  \n",
       "max        269.000000     5406.000000  "
      ]
     },
     "execution_count": 7,
     "metadata": {},
     "output_type": "execute_result"
    }
   ],
   "source": [
    "data.describe()"
   ]
  },
  {
   "cell_type": "code",
   "execution_count": 8,
   "metadata": {},
   "outputs": [],
   "source": [
    "###beginning the task of analysis(visually and quantitatively )"
   ]
  },
  {
   "cell_type": "code",
   "execution_count": 9,
   "metadata": {},
   "outputs": [],
   "source": [
    "pcol=['Daily Confirmed','Daily Recovered','Daily Deceased']\n",
    "tcol=['Total Confirmed','Total Recovered','Total Deceased']"
   ]
  },
  {
   "cell_type": "code",
   "execution_count": 10,
   "metadata": {},
   "outputs": [
    {
     "name": "stdout",
     "output_type": "stream",
     "text": [
      "Daily Confirmed\n",
      "Daily Recovered\n",
      "-3.95298588679345e-10\n",
      "Daily Confirmed\n",
      "Daily Deceased\n",
      "1.1650479959265315e-08\n",
      "Daily Recovered\n",
      "Daily Deceased\n",
      "1.0649724819905297e-08\n"
     ]
    },
    {
     "name": "stderr",
     "output_type": "stream",
     "text": [
      "<ipython-input-10-e405aa859196>:13: RuntimeWarning: overflow encountered in longlong_scalars\n",
      "  r=((a)-(b*c))/(((d)-(e))*((f)-(g)))\n"
     ]
    }
   ],
   "source": [
    "for i in range(len(pcol)-1):\n",
    "    if(i==0):\n",
    "        j=i\n",
    "        k=1\n",
    "        while(k<len(pcol)):\n",
    "            a=len(data)*(np.sum(data[pcol[j]]*data[pcol[k]]))\n",
    "            b=np.sum(data[pcol[j]])\n",
    "            c=np.sum(data[pcol[k]])\n",
    "            d=len(data)*np.sum(data[pcol[j]]**2)\n",
    "            e=b**2\n",
    "            f=len(data)*np.sum(data[pcol[k]]**2)\n",
    "            g=c**2\n",
    "            r=((a)-(b*c))/(((d)-(e))*((f)-(g)))\n",
    "            \n",
    "            print(pcol[j])\n",
    "            if(k!=3):\n",
    "                print(pcol[k])\n",
    "            else:\n",
    "                print(pcol[k-2])\n",
    "                \n",
    "            print(r)\n",
    "            k=k+1\n",
    "    else:\n",
    "        a=len(data)*(np.sum(data[pcol[i]]*data[pcol[i+1]]))\n",
    "        b=np.sum(data[pcol[i]])\n",
    "        c=np.sum(data[pcol[i+1]])\n",
    "        d=len(data)*np.sum(data[pcol[i]]**2)\n",
    "        e=b**2\n",
    "        f=len(data)*np.sum(data[pcol[i+1]]**2)\n",
    "        g=c**2\n",
    "        k=j+2\n",
    "        r=((a)-(b*c))/(((d)-(e))*((f)-(g)))\n",
    "        print(pcol[i])\n",
    "        print(pcol[i+1])\n",
    "        print(r)\n",
    "        \n",
    "            "
   ]
  },
  {
   "cell_type": "code",
   "execution_count": 11,
   "metadata": {},
   "outputs": [
    {
     "name": "stdout",
     "output_type": "stream",
     "text": [
      "Daily Confirmed Vs.Daily Recovered\n",
      "0.7331243849047316\n",
      "2.72251311266278e-06\n",
      "Daily Confirmed Vs.Daily Deceased\n",
      "0.8604367605491055\n",
      "5.446091665483841e-10\n",
      "Daily Recovered Vs.Daily Deceased\n",
      "0.8512227643197399\n",
      "1.2933120831725777e-09\n"
     ]
    }
   ],
   "source": [
    "for i in range(len(pcol)-1):\n",
    "    if(i==0):\n",
    "        j=i\n",
    "        k=1\n",
    "        while(k<len(pcol)):\n",
    "            coef,pval=pearsonr(data[pcol[j]],data[pcol[k]])\n",
    "            print(pcol[j]+\" Vs.\"+pcol[k])\n",
    "            print(coef)\n",
    "            print(pval)\n",
    "            k=k+1\n",
    "    else:\n",
    "        coef,pval=pearsonr(data[pcol[i]],data[pcol[i+1]])\n",
    "        print(pcol[i]+\" Vs.\"+pcol[i+1])\n",
    "        print(coef)\n",
    "        print(pval)"
   ]
  },
  {
   "cell_type": "code",
   "execution_count": 12,
   "metadata": {},
   "outputs": [
    {
     "data": {
      "image/png": "[encoded data removed]",
      "text/plain": [
       "<Figure size 432x288 with 1 Axes>"
      ]
     },
     "metadata": {
      "needs_background": "light"
     },
     "output_type": "display_data"
    },
    {
     "data": {
      "image/png": "[encoded data removed]",
      "text/plain": [
       "<Figure size 432x288 with 1 Axes>"
      ]
     },
     "metadata": {
      "needs_background": "light"
     },
     "output_type": "display_data"
    },
    {
     "data": {
      "image/png": "[encoded data removed]",
      "text/plain": [
       "<Figure size 432x288 with 1 Axes>"
      ]
     },
     "metadata": {
      "needs_background": "light"
     },
     "output_type": "display_data"
    }
   ],
   "source": [
    "for i in range(len(pcol)-1):\n",
    "    if(i==0):\n",
    "        j=i\n",
    "        k=1\n",
    "        while(k<len(pcol)):\n",
    "            data.plot(x=pcol[j],y=pcol[k])\n",
    "            k=k+1\n",
    "    else:\n",
    "        data.plot(x=pcol[i],y=pcol[i+1])"
   ]
  },
  {
   "cell_type": "code",
   "execution_count": 13,
   "metadata": {},
   "outputs": [
    {
     "data": {
      "image/png": "[encoded data removed]",
      "text/plain": [
       "<Figure size 432x288 with 1 Axes>"
      ]
     },
     "metadata": {
      "needs_background": "light"
     },
     "output_type": "display_data"
    },
    {
     "data": {
      "image/png": "[encoded data removed]",
      "text/plain": [
       "<Figure size 432x288 with 1 Axes>"
      ]
     },
     "metadata": {
      "needs_background": "light"
     },
     "output_type": "display_data"
    },
    {
     "data": {
      "image/png": "[encoded data removed]",
      "text/plain": [
       "<Figure size 432x288 with 1 Axes>"
      ]
     },
     "metadata": {
      "needs_background": "light"
     },
     "output_type": "display_data"
    }
   ],
   "source": [
    "for i in range(len(pcol)-1):\n",
    "    if(i==0):\n",
    "        j=i\n",
    "        k=1\n",
    "        while(k<len(pcol)):\n",
    "            data.plot(x=pcol[j],y=pcol[k],kind=\"scatter\")\n",
    "            k=k+1\n",
    "    else:\n",
    "        data.plot(x=pcol[i],y=pcol[i+1],kind=\"scatter\")"
   ]
  },
  {
   "cell_type": "code",
   "execution_count": 14,
   "metadata": {},
   "outputs": [
    {
     "name": "stdout",
     "output_type": "stream",
     "text": [
      "Total Confirmed\n",
      "Total Recovered\n",
      "-1.8970675730185749e-07\n",
      "Total Confirmed\n",
      "Total Deceased\n",
      "2.4691804393888546e-08\n",
      "Total Recovered\n",
      "Total Deceased\n",
      "-4.175310169379924e-09\n"
     ]
    },
    {
     "name": "stderr",
     "output_type": "stream",
     "text": [
      "<ipython-input-14-2344589cd845>:13: RuntimeWarning: overflow encountered in longlong_scalars\n",
      "  r=((a)-(b*c))/(((d)-(e))*((f)-(g)))\n",
      "<ipython-input-14-2344589cd845>:32: RuntimeWarning: overflow encountered in longlong_scalars\n",
      "  r=((a)-(b*c))/(((d)-(e))*((f)-(g)))\n"
     ]
    }
   ],
   "source": [
    "for i in range(len(tcol)-1):\n",
    "    if(i==0):\n",
    "        j=i\n",
    "        k=1\n",
    "        while(k<len(tcol)):\n",
    "            a=len(data)*(np.sum(data[tcol[j]]*data[tcol[k]]))\n",
    "            b=np.sum(data[tcol[j]])\n",
    "            c=np.sum(data[tcol[k]])\n",
    "            d=len(data)*np.sum(data[tcol[j]]**2)\n",
    "            e=b**2\n",
    "            f=len(data)*np.sum(data[tcol[k]]**2)\n",
    "            g=c**2\n",
    "            r=((a)-(b*c))/(((d)-(e))*((f)-(g)))\n",
    "            \n",
    "            print(tcol[j])\n",
    "            if(k!=3):\n",
    "                print(tcol[k])\n",
    "            else:\n",
    "                print(tcol[k-2])\n",
    "                \n",
    "            print(r)\n",
    "            k=k+1\n",
    "    else:\n",
    "        a=len(data)*(np.sum(data[tcol[i]]*data[tcol[i+1]]))\n",
    "        b=np.sum(data[tcol[i]])\n",
    "        c=np.sum(data[tcol[i+1]])\n",
    "        d=len(data)*np.sum(data[tcol[i]]**2)\n",
    "        e=b**2\n",
    "        f=len(data)*np.sum(data[tcol[i+1]]**2)\n",
    "        g=c**2\n",
    "        k=j+2\n",
    "        r=((a)-(b*c))/(((d)-(e))*((f)-(g)))\n",
    "        print(tcol[i])\n",
    "        print(tcol[i+1])\n",
    "        print(r)\n",
    "        \n",
    "            "
   ]
  },
  {
   "cell_type": "code",
   "execution_count": 15,
   "metadata": {},
   "outputs": [
    {
     "name": "stdout",
     "output_type": "stream",
     "text": [
      "Total Confirmed Vs.Total Recovered\n",
      "0.9959585946237296\n",
      "6.539731425798265e-32\n",
      "Total Confirmed Vs.Total Deceased\n",
      "0.9985212760339786\n",
      "3.0991273236912505e-38\n",
      "Total Recovered Vs.Total Deceased\n",
      "0.9924890770036454\n",
      "5.115096123881432e-28\n"
     ]
    }
   ],
   "source": [
    "for i in range(len(tcol)-1):\n",
    "    if(i==0):\n",
    "        j=i\n",
    "        k=1\n",
    "        while(k<len(tcol)):\n",
    "            coef,pval=pearsonr(data[tcol[j]],data[tcol[k]])\n",
    "            print(tcol[j]+\" Vs.\"+tcol[k])\n",
    "            print(coef)\n",
    "            print(pval)\n",
    "            k=k+1\n",
    "    else:\n",
    "        coef,pval=pearsonr(data[tcol[i]],data[tcol[i+1]])\n",
    "        print(tcol[i]+\" Vs.\"+tcol[i+1])\n",
    "        print(coef)\n",
    "        print(pval)"
   ]
  },
  {
   "cell_type": "code",
   "execution_count": 16,
   "metadata": {},
   "outputs": [
    {
     "name": "stdout",
     "output_type": "stream",
     "text": [
      "Total Confirmed Vs.Total Recovered\n",
      "0.9959585946237296\n",
      "6.539731425798265e-32\n",
      "Total Confirmed Vs.Total Deceased\n",
      "0.9985212760339786\n",
      "3.0991273236912505e-38\n",
      "Total Recovered Vs.Total Deceased\n",
      "0.9924890770036454\n",
      "5.115096123881432e-28\n"
     ]
    }
   ],
   "source": [
    "for i in range(len(tcol)-1):\n",
    "    if(i==0):\n",
    "        j=i\n",
    "        k=1\n",
    "        while(k<len(tcol)):\n",
    "            coef,pval=pearsonr(data[tcol[j]],data[tcol[k]])\n",
    "            print(tcol[j]+\" Vs.\"+tcol[k])\n",
    "            print(coef)\n",
    "            print(pval)\n",
    "            k=k+1\n",
    "    else:\n",
    "        coef,pval=pearsonr(data[tcol[i]],data[tcol[i+1]])\n",
    "        print(tcol[i]+\" Vs.\"+tcol[i+1])\n",
    "        print(coef)\n",
    "        print(pval)"
   ]
  },
  {
   "cell_type": "code",
   "execution_count": 17,
   "metadata": {},
   "outputs": [
    {
     "data": {
      "image/png": "[encoded data removed]",
      "text/plain": [
       "<Figure size 432x288 with 1 Axes>"
      ]
     },
     "metadata": {
      "needs_background": "light"
     },
     "output_type": "display_data"
    },
    {
     "data": {
      "image/png": "[encoded data removed]",
      "text/plain": [
       "<Figure size 432x288 with 1 Axes>"
      ]
     },
     "metadata": {
      "needs_background": "light"
     },
     "output_type": "display_data"
    },
    {
     "data": {
      "image/png": "[encoded data removed]",
      "text/plain": [
       "<Figure size 432x288 with 1 Axes>"
      ]
     },
     "metadata": {
      "needs_background": "light"
     },
     "output_type": "display_data"
    }
   ],
   "source": [
    "for i in range(len(tcol)-1):\n",
    "    if(i==0):\n",
    "        j=i\n",
    "        k=1\n",
    "        while(k<len(tcol)):\n",
    "            data.plot(x=tcol[j],y=tcol[k],kind=\"scatter\")\n",
    "            k=k+1\n",
    "    else:\n",
    "        data.plot(x=tcol[i],y=tcol[i+1],kind=\"scatter\")"
   ]
  },
  {
   "cell_type": "code",
   "execution_count": 18,
   "metadata": {},
   "outputs": [
    {
     "name": "stdout",
     "output_type": "stream",
     "text": [
      "For: Daily Confirmed\n",
      "   1000\n",
      "0    31\n",
      "\n",
      "\n",
      "For: Total Confirmed\n",
      "   10000  100000\n",
      "0     17      14\n",
      "\n",
      "\n",
      "For: Daily Recovered\n",
      "   100  1000  10000\n",
      "0    3    28     -2\n",
      "\n",
      "\n",
      "For: Total Recovered\n",
      "   10000\n",
      "0     31\n",
      "\n",
      "\n",
      "For: Daily Deceased\n",
      "   10  100\n",
      "0  14   17\n",
      "\n",
      "\n",
      "For: Total Deceased\n",
      "   1000\n",
      "0    31\n",
      "\n",
      "\n"
     ]
    }
   ],
   "source": [
    "colls=list(data.columns)\n",
    "colls.pop(0)\n",
    "for c in colls:\n",
    "    min(data[c])\n",
    "    max(data[c])\n",
    "    rnge_list=[]\n",
    "    dys_cnt={}\n",
    "    \n",
    "    for i in range(1,len(str(max(data[c])))):\n",
    "        rnge_list.append(10**i)\n",
    "    cnt1=0\n",
    "\n",
    "    for i in list(data[c]):\n",
    "\n",
    "        if(len(str(i))<2 or len(str(i))==2):\n",
    "            cnt1=cnt1+1\n",
    "            dys_cnt.update({str(rnge_list[0]):cnt1})\n",
    "        else:\n",
    "            cnt1=cnt1+1\n",
    "            dys_cnt.update({str(rnge_list[len(str(i))-2]):cnt1})\n",
    "\n",
    "    if(len(list(dys_cnt.keys()))>1):\n",
    "        itr_lst=list(range(1,len(list(dys_cnt.keys()))))\n",
    "        itr_lst.sort(reverse=True)\n",
    "        for i in itr_lst:\n",
    "            dys_cnt[list(dys_cnt.keys())[i]]=dys_cnt[list(dys_cnt.keys())[i]]-dys_cnt[list(dys_cnt.keys())[i-1]]        \n",
    "\n",
    "    print(\"For: \"+c)\n",
    "    print(pd.DataFrame(dys_cnt,index=[0]))\n",
    "    print(\"\\n\")\n",
    "    "
   ]
  },
  {
   "cell_type": "code",
   "execution_count": 19,
   "metadata": {},
   "outputs": [
    {
     "name": "stdout",
     "output_type": "stream",
     "text": [
      "For: Daily Confirmed\n",
      "   1000\n",
      "0    31\n",
      "\n",
      "\n",
      "For: Total Confirmed\n",
      "   10000  100000\n",
      "0     17      31\n",
      "\n",
      "\n",
      "For: Daily Recovered\n",
      "   100  1000  10000\n",
      "0    3    31     29\n",
      "\n",
      "\n",
      "For: Total Recovered\n",
      "   10000\n",
      "0     31\n",
      "\n",
      "\n",
      "For: Daily Deceased\n",
      "   10  100\n",
      "0  14   31\n",
      "\n",
      "\n",
      "For: Total Deceased\n",
      "   1000\n",
      "0    31\n",
      "\n",
      "\n"
     ]
    }
   ],
   "source": [
    "colls=list(data.columns)\n",
    "colls.pop(0)\n",
    "for c in colls:\n",
    "    min(data[c])\n",
    "    max(data[c])\n",
    "    rnge_list=[]\n",
    "    dys_cnt={}\n",
    "\n",
    "    for i in range(1,len(str(max(data[c])))):\n",
    "        rnge_list.append(10**i)\n",
    "    cnt1=0\n",
    "\n",
    "\n",
    "    for i in list(data[c]):\n",
    "\n",
    "        if(len(str(i))<2 or len(str(i))==2):\n",
    "            cnt1=cnt1+1\n",
    "            dys_cnt.update({str(rnge_list[0]):cnt1})\n",
    "        else:\n",
    "            cnt1=cnt1+1\n",
    "            dys_cnt.update({str(rnge_list[len(str(i))-2]):cnt1})\n",
    "\n",
    "            \n",
    "\n",
    "    print(\"For: \"+c)\n",
    "    print(pd.DataFrame(dys_cnt,index=[0]))\n",
    "    print(\"\\n\")\n",
    "    "
   ]
  },
  {
   "cell_type": "code",
   "execution_count": null,
   "metadata": {},
   "outputs": [],
   "source": []
  },
  {
   "cell_type": "code",
   "execution_count": null,
   "metadata": {},
   "outputs": [],
   "source": []
  },
  {
   "cell_type": "code",
   "execution_count": null,
   "metadata": {},
   "outputs": [],
   "source": []
  },
  {
   "cell_type": "code",
   "execution_count": null,
   "metadata": {},
   "outputs": [],
   "source": []
  },
  {
   "cell_type": "code",
   "execution_count": null,
   "metadata": {},
   "outputs": [],
   "source": []
  },
  {
   "cell_type": "code",
   "execution_count": null,
   "metadata": {},
   "outputs": [],
   "source": []
  },
  {
   "cell_type": "code",
   "execution_count": null,
   "metadata": {},
   "outputs": [],
   "source": []
  }
 ],
 "metadata": {
  "kernelspec": {
   "display_name": "Python 3",
   "language": "python",
   "name": "python3"
  },
  "language_info": {
   "codemirror_mode": {
    "name": "ipython",
    "version": 3
   },
   "file_extension": ".py",
   "mimetype": "text/x-python",
   "name": "python",
   "nbconvert_exporter": "python",
   "pygments_lexer": "ipython3",
   "version": "3.8.3"
  }
 },
 "nbformat": 4,
 "nbformat_minor": 4
}
